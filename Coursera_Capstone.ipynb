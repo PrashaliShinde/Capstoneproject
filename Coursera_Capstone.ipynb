{
    "cells": [
        {
            "cell_type": "markdown",
            "metadata": {
                "collapsed": true
            },
            "source": "## This Notebook is used for coursera capstone project"
        },
        {
            "cell_type": "code",
            "execution_count": 1,
            "metadata": {},
            "outputs": [
                {
                    "name": "stdout",
                    "output_type": "stream",
                    "text": "Imported\n"
                }
            ],
            "source": "#webscrape the link into pandas df\nimport pandas as pd\npd.set_option('display.max_columns', None)\npd.set_option('display.max_rows', None)\nfrom pandas.io.json import json_normalize\n\nimport numpy as np\n\nimport json\nfrom bs4 import BeautifulSoup\nimport requests\nprint('Imported')"
        },
        {
            "cell_type": "code",
            "execution_count": 3,
            "metadata": {},
            "outputs": [
                {
                    "name": "stdout",
                    "output_type": "stream",
                    "text": "Hello Capstone Project Course!!\n"
                }
            ],
            "source": "#Use BeautifulSoup to transform the data\nlink = requests.get('https://en.wikipedia.org/wiki/List_of_postal_codes_of_Canada:_M').text\n\n#make beautifulsoup object\nsoup = BeautifulSoup(link, 'html.parser')\n\n#create lists to store the data\npostCodeList =[]\nboroughList = []\nneighborhoodList = []"
        },
        {
            "cell_type": "code",
            "execution_count": null,
            "metadata": {},
            "outputs": [],
            "source": "#add to the lists\nfor row in soup.find('table').find_all('tr'):\n    cell = row.find_all('td')\n    if(len(cell) > 0):\n        postCodeList.append(cell[0].text)\n        boroughList.append(cell[1].text)\n        neighborhoodList.append(cell[2].text.rstrip('\\n'))"
        },
        {
            "cell_type": "code",
            "execution_count": null,
            "metadata": {},
            "outputs": [],
            "source": "#Read the dataframe\ncanada_df = pd.DataFrame({'Postal Code': postCodeList,\n                          'Borough': boroughList,\n                          'Neighborhood': neighborhoodList})\ncanada_df.head()"
        },
        {
            "cell_type": "code",
            "execution_count": null,
            "metadata": {},
            "outputs": [],
            "source": "#Drop cells with 'Not assigned'\ncanada_df_drop = canada_df[canada_df.Borough != 'Not assigned'].reset_index(drop=True)\ncanada_df_drop.head()"
        },
        {
            "cell_type": "code",
            "execution_count": null,
            "metadata": {},
            "outputs": [],
            "source": ""
        },
        {
            "cell_type": "code",
            "execution_count": null,
            "metadata": {},
            "outputs": [],
            "source": ""
        },
        {
            "cell_type": "code",
            "execution_count": null,
            "metadata": {},
            "outputs": [],
            "source": ""
        },
        {
            "cell_type": "code",
            "execution_count": null,
            "metadata": {},
            "outputs": [],
            "source": ""
        }
    ],
    "metadata": {
        "kernelspec": {
            "display_name": "Python 3.6",
            "language": "python",
            "name": "python3"
        },
        "language_info": {
            "codemirror_mode": {
                "name": "ipython",
                "version": 3
            },
            "file_extension": ".py",
            "mimetype": "text/x-python",
            "name": "python",
            "nbconvert_exporter": "python",
            "pygments_lexer": "ipython3",
            "version": "3.6.9"
        }
    },
    "nbformat": 4,
    "nbformat_minor": 1
}